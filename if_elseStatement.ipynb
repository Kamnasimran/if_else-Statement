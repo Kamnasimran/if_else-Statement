{
 "cells": [
  {
   "cell_type": "code",
   "execution_count": 5,
   "id": "f125bbbc-7a69-4f79-9316-deec937cd4d6",
   "metadata": {},
   "outputs": [
    {
     "name": "stdin",
     "output_type": "stream",
     "text": [
      "Enter number of units:  200\n"
     ]
    },
    {
     "name": "stdout",
     "output_type": "stream",
     "text": [
      "Total bill amount is Rs. 500\n"
     ]
    }
   ],
   "source": [
    "units = int(input(\"Enter number of units: \"))\n",
    "\n",
    "bill = 0\n",
    "\n",
    "if units <= 100:\n",
    "    bill = 0\n",
    "elif units <= 200:\n",
    "    bill = (units - 100) * 5\n",
    "else:\n",
    "    bill = 500 + ((units - 200) * 10)\n",
    "\n",
    "print(\"Total bill amount is Rs.\", bill)\n",
    "\n"
   ]
  },
  {
   "cell_type": "code",
   "execution_count": 11,
   "id": "a8a4b746-37ad-442f-bab1-56a17663f17b",
   "metadata": {},
   "outputs": [
    {
     "name": "stdin",
     "output_type": "stream",
     "text": [
      "Enter percentage:  76\n"
     ]
    },
    {
     "name": "stdout",
     "output_type": "stream",
     "text": [
      "Grade: C\n"
     ]
    }
   ],
   "source": [
    "percentage = float(input(\"Enter percentage: \"))\n",
    "\n",
    "if percentage > 90:\n",
    "    print(\"Grade: A\")\n",
    "elif percentage > 80:\n",
    "    print(\"Grade: B\")\n",
    "elif percentage >= 60:\n",
    "    print(\"Grade: C\")\n",
    "else:\n",
    "    print(\"Grade: D\")\n"
   ]
  },
  {
   "cell_type": "code",
   "execution_count": 13,
   "id": "2e336e38-bec3-4694-92b4-7512d227bab4",
   "metadata": {},
   "outputs": [
    {
     "name": "stdin",
     "output_type": "stream",
     "text": [
      "Enter age of person 1:  18\n",
      "Enter age of person 2:  22\n",
      "Enter age of person 3:  40\n",
      "Enter age of person 4:  36\n"
     ]
    },
    {
     "name": "stdout",
     "output_type": "stream",
     "text": [
      "The youngest age is: 18\n"
     ]
    }
   ],
   "source": [
    "age1 = int(input(\"Enter age of person 1: \"))\n",
    "age2 = int(input(\"Enter age of person 2: \"))\n",
    "age3 = int(input(\"Enter age of person 3: \"))\n",
    "age4 = int(input(\"Enter age of person 4: \"))\n",
    "\n",
    "youngest_age = min(age1, age2, age3, age4)\n",
    "\n",
    "print(\"The youngest age is:\", youngest_age)"
   ]
  },
  {
   "cell_type": "code",
   "execution_count": 15,
   "id": "b6480cb9-a0a0-4f2f-8ef0-2d45c6da0a4f",
   "metadata": {},
   "outputs": [
    {
     "name": "stdin",
     "output_type": "stream",
     "text": [
      "Enter your salary:  10000\n",
      "Enter your years of service:  10\n"
     ]
    },
    {
     "name": "stdout",
     "output_type": "stream",
     "text": [
      "Your net bonus amount is:  800.0\n"
     ]
    }
   ],
   "source": [
    "salary = float(input(\"Enter your salary: \"))\n",
    "years_of_service = int(input(\"Enter your years of service: \"))\n",
    "\n",
    "if years_of_service > 10:\n",
    "    bonus_percentage = 10\n",
    "elif years_of_service >= 6:\n",
    "    bonus_percentage = 8\n",
    "else:\n",
    "    bonus_percentage = 5\n",
    "\n",
    "net_bonus = (salary * bonus_percentage) / 100\n",
    "\n",
    "print(\"Your net bonus amount is: \", net_bonus)\n"
   ]
  },
  {
   "cell_type": "code",
   "execution_count": 17,
   "id": "67517540-eaff-41bc-9173-a586864ad0ff",
   "metadata": {},
   "outputs": [
    {
     "name": "stdin",
     "output_type": "stream",
     "text": [
      "Enter first number:  100\n",
      "Enter second number:  20\n",
      "Enter third number:  450\n"
     ]
    },
    {
     "name": "stdout",
     "output_type": "stream",
     "text": [
      "The second largest number is: 100\n"
     ]
    }
   ],
   "source": [
    "num1 = int(input(\"Enter first number: \"))\n",
    "num2 = int(input(\"Enter second number: \"))\n",
    "num3 = int(input(\"Enter third number: \"))\n",
    "\n",
    "if num1 > num2 and num1 > num3:\n",
    "    if num2 > num3:\n",
    "        second_largest = num2\n",
    "    else:\n",
    "        second_largest = num3\n",
    "elif num2 > num1 and num2 > num3:\n",
    "    if num1 > num3:\n",
    "        second_largest = num1\n",
    "    else:\n",
    "        second_largest = num3\n",
    "else:\n",
    "    if num1 > num2:\n",
    "        second_largest = num1\n",
    "    else:\n",
    "        second_largest = num2\n",
    "\n",
    "print(\"The second largest number is:\", second_largest)\n"
   ]
  },
  {
   "cell_type": "code",
   "execution_count": 19,
   "id": "5170dd03-926c-43b1-a14f-07be4ef00c16",
   "metadata": {},
   "outputs": [
    {
     "name": "stdin",
     "output_type": "stream",
     "text": [
      "Enter marked price:  500\n"
     ]
    },
    {
     "name": "stdout",
     "output_type": "stream",
     "text": [
      "Net amount to pay:  450.0\n"
     ]
    }
   ],
   "source": [
    "marked_price = float(input(\"Enter marked price: \"))\n",
    "\n",
    "if marked_price > 10000:\n",
    "    discount_percentage = 20\n",
    "elif marked_price > 7000:\n",
    "    discount_percentage = 15\n",
    "else:\n",
    "    discount_percentage = 10\n",
    "\n",
    "discount_amount = (marked_price * discount_percentage) / 100\n",
    "\n",
    "net_amount = marked_price - discount_amount\n",
    "\n",
    "print(\"Net amount to pay: \", net_amount)\n"
   ]
  },
  {
   "cell_type": "code",
   "execution_count": 21,
   "id": "4c3d29c2-c9bb-4b7e-9d67-59314d8ec9c2",
   "metadata": {},
   "outputs": [
    {
     "name": "stdin",
     "output_type": "stream",
     "text": [
      "Enter English marks:  88\n",
      "Enter Math marks:  65\n",
      "Enter Science marks:  78\n",
      "Enter Social Studies marks:  90\n"
     ]
    },
    {
     "name": "stdout",
     "output_type": "stream",
     "text": [
      "Stream allotted:  Commerce Stream\n"
     ]
    }
   ],
   "source": [
    "english = float(input(\"Enter English marks: \"))\n",
    "math = float(input(\"Enter Math marks: \"))\n",
    "science = float(input(\"Enter Science marks: \"))\n",
    "social_studies = float(input(\"Enter Social Studies marks: \"))\n",
    "\n",
    "if english > 80 and math > 80 and science > 80 and social_studies > 80:\n",
    "    stream = \"Science Stream\"\n",
    "elif english > 80 and math > 50 and science > 50:\n",
    "    stream = \"Commerce Stream\"\n",
    "elif english > 80 and social_studies > 80:\n",
    "    stream = \"Humanities\"\n",
    "else:\n",
    "    stream = \"No stream allotted\"\n",
    "\n",
    "print(\"Stream allotted: \", stream)"
   ]
  },
  {
   "cell_type": "code",
   "execution_count": 27,
   "id": "2f8daea4-ba18-42c2-a5cc-48e635673edc",
   "metadata": {},
   "outputs": [
    {
     "name": "stdin",
     "output_type": "stream",
     "text": [
      "Enter a number:  56\n"
     ]
    },
    {
     "name": "stdout",
     "output_type": "stream",
     "text": [
      "Bye\n"
     ]
    }
   ],
   "source": [
    "num = int(input(\"Enter a number: \"))\n",
    "\n",
    "if num % 5 == 0:\n",
    "    print(\"Hello\")\n",
    "else:\n",
    "    print(\"Bye\")"
   ]
  },
  {
   "cell_type": "code",
   "execution_count": 29,
   "id": "f4f5a898-f332-4bc9-8d99-89d7381549bf",
   "metadata": {},
   "outputs": [
    {
     "name": "stdin",
     "output_type": "stream",
     "text": [
      "Enter a number:  66\n"
     ]
    },
    {
     "name": "stdout",
     "output_type": "stream",
     "text": [
      "The last digit is divisible by 3.\n"
     ]
    }
   ],
   "source": [
    "num = int(input(\"Enter a number: \"))\n",
    "\n",
    "last_digit = num % 10\n",
    "\n",
    "if last_digit % 3 == 0:\n",
    "    print(\"The last digit is divisible by 3.\")\n",
    "else:\n",
    "    print(\"The last digit is not divisible by 3.\")"
   ]
  },
  {
   "cell_type": "code",
   "execution_count": 35,
   "id": "caf7e1bb-0b9b-4bd6-9767-2832cdefced2",
   "metadata": {},
   "outputs": [
    {
     "name": "stdin",
     "output_type": "stream",
     "text": [
      "Enter a number:  879\n"
     ]
    },
    {
     "name": "stdout",
     "output_type": "stream",
     "text": [
      "The number is a three-digit number.\n"
     ]
    }
   ],
   "source": [
    "num = int(input(\"Enter a number: \"))\n",
    "\n",
    "if 100 <= num <= 999:\n",
    "    print(\"The number is a three-digit number.\")\n",
    "else:\n",
    "    print(\"The number is not a three-digit number.\")\n"
   ]
  },
  {
   "cell_type": "code",
   "execution_count": null,
   "id": "33fc1d86-5fd1-4683-9311-7c203c5f9bda",
   "metadata": {},
   "outputs": [],
   "source": []
  }
 ],
 "metadata": {
  "kernelspec": {
   "display_name": "Python 3 (ipykernel)",
   "language": "python",
   "name": "python3"
  },
  "language_info": {
   "codemirror_mode": {
    "name": "ipython",
    "version": 3
   },
   "file_extension": ".py",
   "mimetype": "text/x-python",
   "name": "python",
   "nbconvert_exporter": "python",
   "pygments_lexer": "ipython3",
   "version": "3.12.4"
  }
 },
 "nbformat": 4,
 "nbformat_minor": 5
}
